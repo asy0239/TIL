{
 "cells": [
  {
   "cell_type": "markdown",
   "metadata": {
    "ExecuteTime": {
     "end_time": "2019-06-04T07:09:31.400826Z",
     "start_time": "2019-06-04T07:09:27.091278Z"
    }
   },
   "source": [
    "# CRUD Basic\n",
    "## CRUD Operation\n",
    "* Create => 데이터 생성\n",
    "* Read (Retrieve) => 데이터 조회\n",
    "* Update => 데이터 수정\n",
    "* Delete => 데이터 삭제\n",
    "\n",
    "## Articles Table - schema\n",
    "\n",
    "| Field Name | Data type                 |\n",
    "| ---------- | ------------------------- |\n",
    "| `id`       | Integer, Primary Key      |\n",
    "| `title`    | CharField(max_length=200) |\n",
    "| `content`  | TextField()               |\n",
    "\n"
   ]
  },
  {
   "cell_type": "code",
   "execution_count": 1,
   "metadata": {
    "ExecuteTime": {
     "end_time": "2019-06-04T07:25:19.564784Z",
     "start_time": "2019-06-04T07:25:19.561784Z"
    }
   },
   "outputs": [],
   "source": [
    "from board.models import Article"
   ]
  },
  {
   "cell_type": "markdown",
   "metadata": {},
   "source": [
    "## Create (데이터 생성)\n",
    "1. `Article` 객체를 생성한다.\n",
    "2. 필드를 채운다.\n",
    "3. 저장한다."
   ]
  },
  {
   "cell_type": "code",
   "execution_count": 12,
   "metadata": {
    "ExecuteTime": {
     "end_time": "2019-06-04T08:16:46.395946Z",
     "start_time": "2019-06-04T08:16:46.353949Z"
    }
   },
   "outputs": [],
   "source": [
    "# 생성 => 필드 채우기 => 저장\n",
    "# article = Article()\n",
    "# article.title = 'Test'\n",
    "# article.content = 'This is test Article'\n",
    "# article.save()     # 실행할때마다 저장되므로 주석처리"
   ]
  },
  {
   "cell_type": "code",
   "execution_count": 13,
   "metadata": {
    "ExecuteTime": {
     "end_time": "2019-06-04T08:29:48.183092Z",
     "start_time": "2019-06-04T08:29:48.141130Z"
    }
   },
   "outputs": [],
   "source": [
    "# 생성 & 필드 채우기 => 저장\n",
    "article = Article(title='2 step', content = 'create')\n",
    "article.save()"
   ]
  },
  {
   "cell_type": "code",
   "execution_count": 14,
   "metadata": {
    "ExecuteTime": {
     "end_time": "2019-06-04T08:29:48.602866Z",
     "start_time": "2019-06-04T08:29:48.561877Z"
    }
   },
   "outputs": [
    {
     "data": {
      "text/plain": [
       "<Article: 6: OneLine - create>"
      ]
     },
     "execution_count": 14,
     "metadata": {},
     "output_type": "execute_result"
    }
   ],
   "source": [
    "# 생성 & 필드채우기 & 저장\n",
    "Article.objects.create(title = 'OneLine', content = 'create')"
   ]
  },
  {
   "cell_type": "markdown",
   "metadata": {},
   "source": [
    "## Read (데이터 조회)\n",
    "1. 여러개 조회 - 없으면 , 비어있는 [ ]\n",
    "    * **전체 조회**\n",
    "    * 특정 조건을 만족하는 레코드들 조회\n",
    "2. 정확히 한개 조회 - 없으면, 에러\n",
    "    * **id(pk) 로 조회**\n",
    "    * 특정 조건을 만족하는 첫 번째 레코드 조회"
   ]
  },
  {
   "cell_type": "code",
   "execution_count": 1,
   "metadata": {
    "ExecuteTime": {
     "end_time": "2019-06-04T07:48:31.630543Z",
     "start_time": "2019-06-04T07:48:31.615568Z"
    }
   },
   "outputs": [
    {
     "data": {
      "text/plain": [
       "<QuerySet [<Article: 1: Bye - Good bye, World>, <Article: 2: happy - hacking>, <Article: 3: Test - This is test Article>]>"
      ]
     },
     "execution_count": 1,
     "metadata": {},
     "output_type": "execute_result"
    }
   ],
   "source": [
    "# 전체 조회\n",
    "Article.objects.all()"
   ]
  },
  {
   "cell_type": "code",
   "execution_count": 8,
   "metadata": {
    "ExecuteTime": {
     "end_time": "2019-06-04T07:50:57.965847Z",
     "start_time": "2019-06-04T07:50:57.959852Z"
    }
   },
   "outputs": [
    {
     "data": {
      "text/plain": [
       "'Good bye, World'"
      ]
     },
     "execution_count": 8,
     "metadata": {},
     "output_type": "execute_result"
    }
   ],
   "source": [
    "Article.objects.get(id=1).content"
   ]
  },
  {
   "cell_type": "markdown",
   "metadata": {},
   "source": [
    "## Update (데이터 수정)\n",
    "1. `Article` 객체를 하나 고른다.\n",
    "2. 필드를 알맞게 수정한다.\n",
    "3. 저장한다."
   ]
  },
  {
   "cell_type": "code",
   "execution_count": 10,
   "metadata": {
    "ExecuteTime": {
     "end_time": "2019-06-04T08:12:06.195733Z",
     "start_time": "2019-06-04T08:12:06.142764Z"
    }
   },
   "outputs": [],
   "source": [
    "article = Article.objects.get(id=1)  # pk=1이라고도 쓸수있다.\n",
    "article.title = '6pm'\n",
    "article.content = 'Time to go home!'\n",
    "# article.save()"
   ]
  },
  {
   "cell_type": "markdown",
   "metadata": {},
   "source": [
    "## Delete (데이터 삭제)\n",
    "1. `Article` 객체를 하나 고른다.\n",
    "2. 삭제한다."
   ]
  },
  {
   "cell_type": "code",
   "execution_count": 11,
   "metadata": {
    "ExecuteTime": {
     "end_time": "2019-06-04T08:13:52.445020Z",
     "start_time": "2019-06-04T08:13:52.395036Z"
    }
   },
   "outputs": [
    {
     "data": {
      "text/plain": [
       "(1, {'board.Article': 1})"
      ]
     },
     "execution_count": 11,
     "metadata": {},
     "output_type": "execute_result"
    }
   ],
   "source": [
    "article = Article.objects.get(id=3)\n",
    "# article.delete()    # 실행할때마다 삭제되므로 주석처리"
   ]
  },
  {
   "cell_type": "code",
   "execution_count": null,
   "metadata": {},
   "outputs": [],
   "source": []
  }
 ],
 "metadata": {
  "kernelspec": {
   "display_name": "Django Shell-Plus",
   "language": "python",
   "name": "django_extensions"
  },
  "language_info": {
   "codemirror_mode": {
    "name": "ipython",
    "version": 3
   },
   "file_extension": ".py",
   "mimetype": "text/x-python",
   "name": "python",
   "nbconvert_exporter": "python",
   "pygments_lexer": "ipython3",
   "version": "3.7.1"
  },
  "toc": {
   "base_numbering": 1,
   "nav_menu": {},
   "number_sections": true,
   "sideBar": true,
   "skip_h1_title": false,
   "title_cell": "Table of Contents",
   "title_sidebar": "Contents",
   "toc_cell": false,
   "toc_position": {},
   "toc_section_display": true,
   "toc_window_display": true
  },
  "varInspector": {
   "cols": {
    "lenName": 16,
    "lenType": 16,
    "lenVar": 40
   },
   "kernels_config": {
    "python": {
     "delete_cmd_postfix": "",
     "delete_cmd_prefix": "del ",
     "library": "var_list.py",
     "varRefreshCmd": "print(var_dic_list())"
    },
    "r": {
     "delete_cmd_postfix": ") ",
     "delete_cmd_prefix": "rm(",
     "library": "var_list.r",
     "varRefreshCmd": "cat(var_dic_list()) "
    }
   },
   "types_to_exclude": [
    "module",
    "function",
    "builtin_function_or_method",
    "instance",
    "_Feature"
   ],
   "window_display": false
  }
 },
 "nbformat": 4,
 "nbformat_minor": 2
}
